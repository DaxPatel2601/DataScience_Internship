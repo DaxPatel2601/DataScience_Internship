{
 "cells": [
  {
   "cell_type": "markdown",
   "metadata": {},
   "source": [
    "# 1: Employee Data Analysis\n"
   ]
  },
  {
   "cell_type": "markdown",
   "metadata": {},
   "source": [
    "#### Dataset : - employee_data_large.csv"
   ]
  },
  {
   "cell_type": "markdown",
   "metadata": {},
   "source": [
    "##### Task 1: Read the employee dataset from a CSV file:\n"
   ]
  },
  {
   "cell_type": "code",
   "execution_count": null,
   "metadata": {},
   "outputs": [
    {
     "name": "stdout",
     "output_type": "stream",
     "text": [
      "           Employee Department  Salary  Experience\n",
      "0        Employee_1         IT   83594           9\n",
      "1        Employee_2         HR  111156          40\n",
      "2        Employee_3         IT   94136          38\n",
      "3        Employee_4  Marketing   53853          20\n",
      "4        Employee_5         IT   52383          26\n",
      "...             ...        ...     ...         ...\n",
      "1995  Employee_1996    Finance  117601          23\n",
      "1996  Employee_1997    Finance   48362           1\n",
      "1997  Employee_1998  Marketing   82349          32\n",
      "1998  Employee_1999    Finance   50560          22\n",
      "1999  Employee_2000         IT  106479          28\n",
      "\n",
      "[2000 rows x 4 columns]\n"
     ]
    }
   ],
   "source": [
    "import pandas as pd\n",
    "import matplotlib.pyplot as plt \n",
    "\n",
    "df=pd.read_csv(\"employee_data_large.csv\")\n",
    "print(df)"
   ]
  },
  {
   "cell_type": "markdown",
   "metadata": {},
   "source": [
    "#### Task 2: Add a new column Bonus where the bonus is 10% of the salary if the employee has more than 5 years of experience, otherwise 5%."
   ]
  },
  {
   "cell_type": "code",
   "execution_count": 5,
   "metadata": {},
   "outputs": [
    {
     "name": "stdout",
     "output_type": "stream",
     "text": [
      "           Employee Department  Salary  Experience    Bonus\n",
      "0        Employee_1         IT   83594           9   8359.4\n",
      "1        Employee_2         HR  111156          40  11115.6\n",
      "2        Employee_3         IT   94136          38   9413.6\n",
      "3        Employee_4  Marketing   53853          20   5385.3\n",
      "4        Employee_5         IT   52383          26   5238.3\n",
      "...             ...        ...     ...         ...      ...\n",
      "1995  Employee_1996    Finance  117601          23  11760.1\n",
      "1996  Employee_1997    Finance   48362           1   2418.1\n",
      "1997  Employee_1998  Marketing   82349          32   8234.9\n",
      "1998  Employee_1999    Finance   50560          22   5056.0\n",
      "1999  Employee_2000         IT  106479          28  10647.9\n",
      "\n",
      "[2000 rows x 5 columns]\n"
     ]
    }
   ],
   "source": [
    "df[\"Bonus\"]=df.apply(lambda x:x[\"Salary\"]*0.10 if x[\"Experience\"]>5 else x[\"Salary\"]*0.05,axis=1)\n",
    "print(df)"
   ]
  },
  {
   "cell_type": "markdown",
   "metadata": {},
   "source": [
    "#### Task 3: Find the average salary for each department and compare it with the overall company average salary."
   ]
  },
  {
   "cell_type": "code",
   "execution_count": 6,
   "metadata": {},
   "outputs": [
    {
     "name": "stdout",
     "output_type": "stream",
     "text": [
      "Department\n",
      "Finance       79885.316195\n",
      "HR            82448.979950\n",
      "IT            79506.888889\n",
      "Marketing     79279.730964\n",
      "Operations    78955.556962\n",
      "Name: Salary, dtype: float64\n"
     ]
    }
   ],
   "source": [
    "depart_avg_Salary=df.groupby(\"Department\")[\"Salary\"].mean()\n",
    "print(depart_avg_Salary)"
   ]
  },
  {
   "cell_type": "code",
   "execution_count": 7,
   "metadata": {},
   "outputs": [
    {
     "name": "stdout",
     "output_type": "stream",
     "text": [
      "80013.802\n"
     ]
    }
   ],
   "source": [
    "avg_salary=df[\"Salary\"].mean()\n",
    "print(avg_salary)"
   ]
  },
  {
   "cell_type": "code",
   "execution_count": 8,
   "metadata": {},
   "outputs": [
    {
     "name": "stdout",
     "output_type": "stream",
     "text": [
      "                  Salary   Difference\n",
      "Department                           \n",
      "Finance     79885.316195  -128.485805\n",
      "HR          82448.979950  2435.177950\n",
      "IT          79506.888889  -506.913111\n",
      "Marketing   79279.730964  -734.071036\n",
      "Operations  78955.556962 -1058.245038\n"
     ]
    }
   ],
   "source": [
    "new_df=pd.DataFrame(depart_avg_Salary)\n",
    "new_df[\"Difference\"]=new_df[\"Salary\"]-avg_salary\n",
    "print(new_df)"
   ]
  },
  {
   "cell_type": "markdown",
   "metadata": {},
   "source": []
  },
  {
   "cell_type": "markdown",
   "metadata": {},
   "source": [
    "#### Task 4: Identify the employee with the highest salary and the lowest salary in each department."
   ]
  },
  {
   "cell_type": "code",
   "execution_count": 9,
   "metadata": {},
   "outputs": [
    {
     "name": "stdout",
     "output_type": "stream",
     "text": [
      "           Employee  Department  Salary  Experience    Bonus\n",
      "1758  Employee_1759     Finance  119839          14  11983.9\n",
      "522    Employee_523          HR  119825           9  11982.5\n",
      "1257  Employee_1258          IT  119870          23  11987.0\n",
      "298    Employee_299   Marketing  119584          22  11958.4\n",
      "1140  Employee_1141  Operations  119975          30  11997.5\n"
     ]
    }
   ],
   "source": [
    "max_salary_department=df.loc[df.groupby(\"Department\")[\"Salary\"].idxmax()]\n",
    "print(max_salary_department)\n"
   ]
  },
  {
   "cell_type": "code",
   "execution_count": 10,
   "metadata": {},
   "outputs": [
    {
     "name": "stdout",
     "output_type": "stream",
     "text": [
      "           Employee  Department  Salary  Experience    Bonus\n",
      "1316  Employee_1317     Finance   40152           1  2007.60\n",
      "19      Employee_20          HR   40228           4  2011.40\n",
      "1443  Employee_1444          IT   40009           2  2000.45\n",
      "53      Employee_54   Marketing   40204          11  4020.40\n",
      "1562  Employee_1563  Operations   40040          36  4004.00\n"
     ]
    }
   ],
   "source": [
    "min_salary_department=df.loc[df.groupby(\"Department\")[\"Salary\"].idxmin()]\n",
    "print(min_salary_department)"
   ]
  },
  {
   "cell_type": "markdown",
   "metadata": {},
   "source": [
    "#### Task 5: Create a new column Salary after Tax assuming a tax deduction of 12% from the Salary, and rank employees based on their post-tax salary."
   ]
  },
  {
   "cell_type": "code",
   "execution_count": 11,
   "metadata": {},
   "outputs": [],
   "source": [
    "df[\"Tax\"]=(df[\"Salary\"]-df[\"Salary\"]*0.12)"
   ]
  },
  {
   "cell_type": "code",
   "execution_count": 12,
   "metadata": {},
   "outputs": [
    {
     "name": "stdout",
     "output_type": "stream",
     "text": [
      "           Employee  Department  Salary  Experience     Bonus        Tax  \\\n",
      "1140  Employee_1141  Operations  119975          30  11997.50  105578.00   \n",
      "1257  Employee_1258          IT  119870          23  11987.00  105485.60   \n",
      "1758  Employee_1759     Finance  119839          14  11983.90  105458.32   \n",
      "522    Employee_523          HR  119825           9  11982.50  105446.00   \n",
      "1265  Employee_1266  Operations  119741           6  11974.10  105372.08   \n",
      "...             ...         ...     ...         ...       ...        ...   \n",
      "1316  Employee_1317     Finance   40152           1   2007.60   35333.76   \n",
      "1682  Employee_1683          IT   40097           4   2004.85   35285.36   \n",
      "441    Employee_442          IT   40087          26   4008.70   35276.56   \n",
      "1562  Employee_1563  Operations   40040          36   4004.00   35235.20   \n",
      "1443  Employee_1444          IT   40009           2   2000.45   35207.92   \n",
      "\n",
      "        Rank  \n",
      "1140     1.0  \n",
      "1257     2.0  \n",
      "1758     3.0  \n",
      "522      4.0  \n",
      "1265     5.0  \n",
      "...      ...  \n",
      "1316  1996.0  \n",
      "1682  1997.0  \n",
      "441   1998.0  \n",
      "1562  1999.0  \n",
      "1443  2000.0  \n",
      "\n",
      "[2000 rows x 7 columns]\n"
     ]
    }
   ],
   "source": [
    "df[\"Rank\"]=df[\"Tax\"].rank(ascending=False)\n",
    "print(df.sort_values(by=\"Rank\"))"
   ]
  },
  {
   "cell_type": "markdown",
   "metadata": {},
   "source": [
    "#### Task 6: Sort the employees by experience in descending order and filter the top 3 most experienced employees."
   ]
  },
  {
   "cell_type": "code",
   "execution_count": 13,
   "metadata": {},
   "outputs": [
    {
     "name": "stdout",
     "output_type": "stream",
     "text": [
      "           Employee  Department  Salary  Experience    Bonus       Tax    Rank\n",
      "1461  Employee_1462  Operations   61769          40   6176.9  54356.72  1483.0\n",
      "76      Employee_77     Finance  104095          40  10409.5  91603.60   386.0\n",
      "1226  Employee_1227          IT   58902          40   5890.2  51833.76  1547.0\n"
     ]
    }
   ],
   "source": [
    "z=df.sort_values(by=\"Experience\",ascending=False)\n",
    "print(z.head(3))"
   ]
  },
  {
   "cell_type": "code",
   "execution_count": null,
   "metadata": {},
   "outputs": [],
   "source": []
  },
  {
   "cell_type": "code",
   "execution_count": null,
   "metadata": {},
   "outputs": [],
   "source": []
  },
  {
   "cell_type": "code",
   "execution_count": null,
   "metadata": {},
   "outputs": [],
   "source": []
  },
  {
   "cell_type": "code",
   "execution_count": null,
   "metadata": {},
   "outputs": [],
   "source": []
  },
  {
   "cell_type": "code",
   "execution_count": null,
   "metadata": {},
   "outputs": [],
   "source": []
  }
 ],
 "metadata": {
  "kernelspec": {
   "display_name": "Python 3",
   "language": "python",
   "name": "python3"
  },
  "language_info": {
   "codemirror_mode": {
    "name": "ipython",
    "version": 3
   },
   "file_extension": ".py",
   "mimetype": "text/x-python",
   "name": "python",
   "nbconvert_exporter": "python",
   "pygments_lexer": "ipython3",
   "version": "3.12.4"
  }
 },
 "nbformat": 4,
 "nbformat_minor": 2
}
